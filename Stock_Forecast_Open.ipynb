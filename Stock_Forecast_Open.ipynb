{
 "cells": [
  {
   "cell_type": "code",
   "execution_count": 69,
   "id": "d0fa16d3",
   "metadata": {},
   "outputs": [],
   "source": [
    "import pandas as pd\n",
    "import numpy as np\n",
    "import matplotlib.pyplot as plt\n",
    "from pandas.plotting import register_matplotlib_converters\n",
    "from statsmodels.graphics.tsaplots import plot_acf, plot_pacf\n",
    "register_matplotlib_converters()\n",
    "from statsmodels.tsa.stattools import adfuller\n",
    "import statsmodels.api as sms\n",
    "import warnings\n",
    "warnings.filterwarnings('ignore')\n",
    "from datetime import datetime, timedelta\n",
    "from statsmodels.tsa.stattools import acf, pacf\n",
    "from statsmodels.tsa.arima_model import ARMA"
   ]
  },
  {
   "cell_type": "code",
   "execution_count": 70,
   "id": "5de4c6d4",
   "metadata": {},
   "outputs": [],
   "source": [
    "df = pd.read_csv('FX_EURUSD, 1D.csv')\n",
    "cols = ['time','open']\n",
    "df = df[cols]"
   ]
  },
  {
   "cell_type": "code",
   "execution_count": 71,
   "id": "ef68e8bd",
   "metadata": {},
   "outputs": [
    {
     "data": {
      "text/html": [
       "<div>\n",
       "<style scoped>\n",
       "    .dataframe tbody tr th:only-of-type {\n",
       "        vertical-align: middle;\n",
       "    }\n",
       "\n",
       "    .dataframe tbody tr th {\n",
       "        vertical-align: top;\n",
       "    }\n",
       "\n",
       "    .dataframe thead th {\n",
       "        text-align: right;\n",
       "    }\n",
       "</style>\n",
       "<table border=\"1\" class=\"dataframe\">\n",
       "  <thead>\n",
       "    <tr style=\"text-align: right;\">\n",
       "      <th></th>\n",
       "      <th>time</th>\n",
       "      <th>open</th>\n",
       "    </tr>\n",
       "  </thead>\n",
       "  <tbody>\n",
       "    <tr>\n",
       "      <th>0</th>\n",
       "      <td>2012-10-11T04:00:00+07:00</td>\n",
       "      <td>1.28721</td>\n",
       "    </tr>\n",
       "    <tr>\n",
       "      <th>1</th>\n",
       "      <td>2012-10-12T04:00:00+07:00</td>\n",
       "      <td>1.29268</td>\n",
       "    </tr>\n",
       "    <tr>\n",
       "      <th>2</th>\n",
       "      <td>2012-10-15T04:00:00+07:00</td>\n",
       "      <td>1.29538</td>\n",
       "    </tr>\n",
       "    <tr>\n",
       "      <th>3</th>\n",
       "      <td>2012-10-16T04:00:00+07:00</td>\n",
       "      <td>1.29490</td>\n",
       "    </tr>\n",
       "    <tr>\n",
       "      <th>4</th>\n",
       "      <td>2012-10-17T04:00:00+07:00</td>\n",
       "      <td>1.30529</td>\n",
       "    </tr>\n",
       "  </tbody>\n",
       "</table>\n",
       "</div>"
      ],
      "text/plain": [
       "                        time     open\n",
       "0  2012-10-11T04:00:00+07:00  1.28721\n",
       "1  2012-10-12T04:00:00+07:00  1.29268\n",
       "2  2012-10-15T04:00:00+07:00  1.29538\n",
       "3  2012-10-16T04:00:00+07:00  1.29490\n",
       "4  2012-10-17T04:00:00+07:00  1.30529"
      ]
     },
     "execution_count": 71,
     "metadata": {},
     "output_type": "execute_result"
    }
   ],
   "source": [
    "df.head()"
   ]
  },
  {
   "cell_type": "code",
   "execution_count": 72,
   "id": "f9b2ade1",
   "metadata": {},
   "outputs": [],
   "source": [
    "df = df.astype({'time':'datetime64'})\n",
    "df['date'] = pd.to_datetime(df['time'],unit='s').dt.date\n",
    "df['date'] = pd.to_datetime(df['date'])\n",
    "df.drop('time',axis=1,inplace=True)"
   ]
  },
  {
   "cell_type": "code",
   "execution_count": 73,
   "id": "a56d9691",
   "metadata": {},
   "outputs": [],
   "source": [
    "df.set_index('date',inplace=True)"
   ]
  },
  {
   "cell_type": "code",
   "execution_count": 74,
   "id": "9e27db58",
   "metadata": {},
   "outputs": [],
   "source": [
    "# df.Timestamp = pd.to_datetime(df.date, format='%Y-%m-%d')\n",
    "# df.index = df.Timestamp\n",
    "# # df = df.resample('D').sum()"
   ]
  },
  {
   "cell_type": "code",
   "execution_count": 75,
   "id": "d57776e3",
   "metadata": {},
   "outputs": [],
   "source": [
    "df = df.asfreq(pd.infer_freq(df.index))"
   ]
  },
  {
   "cell_type": "code",
   "execution_count": 76,
   "id": "bf60cff5",
   "metadata": {},
   "outputs": [
    {
     "data": {
      "text/html": [
       "<div>\n",
       "<style scoped>\n",
       "    .dataframe tbody tr th:only-of-type {\n",
       "        vertical-align: middle;\n",
       "    }\n",
       "\n",
       "    .dataframe tbody tr th {\n",
       "        vertical-align: top;\n",
       "    }\n",
       "\n",
       "    .dataframe thead th {\n",
       "        text-align: right;\n",
       "    }\n",
       "</style>\n",
       "<table border=\"1\" class=\"dataframe\">\n",
       "  <thead>\n",
       "    <tr style=\"text-align: right;\">\n",
       "      <th></th>\n",
       "      <th>open</th>\n",
       "    </tr>\n",
       "    <tr>\n",
       "      <th>date</th>\n",
       "      <th></th>\n",
       "    </tr>\n",
       "  </thead>\n",
       "  <tbody>\n",
       "    <tr>\n",
       "      <th>2012-10-10</th>\n",
       "      <td>1.28721</td>\n",
       "    </tr>\n",
       "    <tr>\n",
       "      <th>2012-10-11</th>\n",
       "      <td>1.29268</td>\n",
       "    </tr>\n",
       "    <tr>\n",
       "      <th>2012-10-12</th>\n",
       "      <td>NaN</td>\n",
       "    </tr>\n",
       "    <tr>\n",
       "      <th>2012-10-13</th>\n",
       "      <td>NaN</td>\n",
       "    </tr>\n",
       "    <tr>\n",
       "      <th>2012-10-14</th>\n",
       "      <td>1.29538</td>\n",
       "    </tr>\n",
       "  </tbody>\n",
       "</table>\n",
       "</div>"
      ],
      "text/plain": [
       "               open\n",
       "date               \n",
       "2012-10-10  1.28721\n",
       "2012-10-11  1.29268\n",
       "2012-10-12      NaN\n",
       "2012-10-13      NaN\n",
       "2012-10-14  1.29538"
      ]
     },
     "execution_count": 76,
     "metadata": {},
     "output_type": "execute_result"
    }
   ],
   "source": [
    "df.head()"
   ]
  },
  {
   "cell_type": "code",
   "execution_count": 77,
   "id": "921fdfc0",
   "metadata": {},
   "outputs": [
    {
     "data": {
      "text/plain": [
       "2460"
      ]
     },
     "execution_count": 77,
     "metadata": {},
     "output_type": "execute_result"
    }
   ],
   "source": [
    "test_size = 0.3\n",
    "train_samples = int((1-test_size)*len(df))\n",
    "train_samples"
   ]
  },
  {
   "cell_type": "code",
   "execution_count": 78,
   "id": "f588cbc8",
   "metadata": {},
   "outputs": [],
   "source": [
    "train_data = df[:train_samples]\n",
    "test_data = df[train_samples:]"
   ]
  },
  {
   "cell_type": "code",
   "execution_count": 79,
   "id": "dd0a0d3f",
   "metadata": {},
   "outputs": [
    {
     "data": {
      "text/plain": [
       "(Timestamp('2019-07-06 00:00:00', freq='D'),\n",
       " Timestamp('2022-05-25 00:00:00', freq='D'))"
      ]
     },
     "execution_count": 79,
     "metadata": {},
     "output_type": "execute_result"
    }
   ],
   "source": [
    "pred_start_date = test_data.index[0]\n",
    "pred_end_date=test_data.index[-1]\n",
    "pred_start_date, pred_end_date"
   ]
  },
  {
   "cell_type": "code",
   "execution_count": 80,
   "id": "55b839ab",
   "metadata": {},
   "outputs": [
    {
     "data": {
      "text/html": [
       "<div>\n",
       "<style scoped>\n",
       "    .dataframe tbody tr th:only-of-type {\n",
       "        vertical-align: middle;\n",
       "    }\n",
       "\n",
       "    .dataframe tbody tr th {\n",
       "        vertical-align: top;\n",
       "    }\n",
       "\n",
       "    .dataframe thead th {\n",
       "        text-align: right;\n",
       "    }\n",
       "</style>\n",
       "<table border=\"1\" class=\"dataframe\">\n",
       "  <thead>\n",
       "    <tr style=\"text-align: right;\">\n",
       "      <th></th>\n",
       "      <th>open</th>\n",
       "    </tr>\n",
       "    <tr>\n",
       "      <th>date</th>\n",
       "      <th></th>\n",
       "    </tr>\n",
       "  </thead>\n",
       "  <tbody>\n",
       "    <tr>\n",
       "      <th>2019-07-06</th>\n",
       "      <td>NaN</td>\n",
       "    </tr>\n",
       "    <tr>\n",
       "      <th>2019-07-07</th>\n",
       "      <td>1.12261</td>\n",
       "    </tr>\n",
       "    <tr>\n",
       "      <th>2019-07-08</th>\n",
       "      <td>1.12140</td>\n",
       "    </tr>\n",
       "    <tr>\n",
       "      <th>2019-07-09</th>\n",
       "      <td>1.12077</td>\n",
       "    </tr>\n",
       "    <tr>\n",
       "      <th>2019-07-10</th>\n",
       "      <td>1.12507</td>\n",
       "    </tr>\n",
       "    <tr>\n",
       "      <th>...</th>\n",
       "      <td>...</td>\n",
       "    </tr>\n",
       "    <tr>\n",
       "      <th>2022-05-21</th>\n",
       "      <td>NaN</td>\n",
       "    </tr>\n",
       "    <tr>\n",
       "      <th>2022-05-22</th>\n",
       "      <td>1.05620</td>\n",
       "    </tr>\n",
       "    <tr>\n",
       "      <th>2022-05-23</th>\n",
       "      <td>1.06885</td>\n",
       "    </tr>\n",
       "    <tr>\n",
       "      <th>2022-05-24</th>\n",
       "      <td>1.07314</td>\n",
       "    </tr>\n",
       "    <tr>\n",
       "      <th>2022-05-25</th>\n",
       "      <td>1.06763</td>\n",
       "    </tr>\n",
       "  </tbody>\n",
       "</table>\n",
       "<p>1055 rows × 1 columns</p>\n",
       "</div>"
      ],
      "text/plain": [
       "               open\n",
       "date               \n",
       "2019-07-06      NaN\n",
       "2019-07-07  1.12261\n",
       "2019-07-08  1.12140\n",
       "2019-07-09  1.12077\n",
       "2019-07-10  1.12507\n",
       "...             ...\n",
       "2022-05-21      NaN\n",
       "2022-05-22  1.05620\n",
       "2022-05-23  1.06885\n",
       "2022-05-24  1.07314\n",
       "2022-05-25  1.06763\n",
       "\n",
       "[1055 rows x 1 columns]"
      ]
     },
     "execution_count": 80,
     "metadata": {},
     "output_type": "execute_result"
    }
   ],
   "source": [
    "test_data"
   ]
  },
  {
   "cell_type": "code",
   "execution_count": 83,
   "id": "ee395d8a",
   "metadata": {},
   "outputs": [
    {
     "data": {
      "text/plain": [
       "Text(0.5, 1.0, 'Trading View Open Price')"
      ]
     },
     "execution_count": 83,
     "metadata": {},
     "output_type": "execute_result"
    },
    {
     "data": {
      "image/png": "[encoded data removed]",
      "text/plain": [
       "<Figure size 720x432 with 1 Axes>"
      ]
     },
     "metadata": {
      "needs_background": "light"
     },
     "output_type": "display_data"
    }
   ],
   "source": [
    "plt.figure(figsize=(10,6))\n",
    "plt.plot(test_data)\n",
    "for year in range(test_data.index[0].year,test_data.index[-1].year+1):\n",
    "    plt.axvline(datetime(year,7,6),color='k',linestyle='--',alpha=0.2)\n",
    "plt.title('Trading View Open Price',fontsize=20)"
   ]
  },
  {
   "cell_type": "markdown",
   "id": "751baf17",
   "metadata": {},
   "source": [
    "Buy if stock increase for b consecutive days\n",
    "Sell if stock decrease for s consecutive days"
   ]
  },
  {
   "cell_type": "code",
   "execution_count": 84,
   "id": "c14f6df6",
   "metadata": {},
   "outputs": [],
   "source": [
    "def get_buying_selling_days(price_data, b, s):\n",
    "    #percent change day after day\n",
    "    pct_change = price_data.pct_change()[1:]\n",
    "    #check buying condition\n",
    "    def buying_condition(sub_series):\n",
    "        return (sub_series > 0).all()\n",
    "    #check selling condition\n",
    "    def selling_condition(sub_series):\n",
    "        return (sub_series < 0).all()\n",
    "    # get all buying days\n",
    "    buying_days = pct_change.rolling(b).apply(buying_condition)\n",
    "    # get all potential selling days\n",
    "    potential_selling_days = pct_change.rolling(s).apply(selling_condition)\n",
    "    \n",
    "    return {'buying_days': buying_days, 'potential_selling_days': potential_selling_days}"
   ]
  },
  {
   "cell_type": "code",
   "execution_count": 85,
   "id": "2dfc0478",
   "metadata": {},
   "outputs": [],
   "source": [
    "info_dict = get_buying_selling_days(test_data, 3, 3)"
   ]
  },
  {
   "cell_type": "code",
   "execution_count": 87,
   "id": "3f3278a4",
   "metadata": {},
   "outputs": [],
   "source": [
    "buying_days = info_dict['buying_days']\n",
    "potential_selling_days = info_dict['potential_selling_days']"
   ]
  },
  {
   "cell_type": "code",
   "execution_count": 90,
   "id": "0190888d",
   "metadata": {},
   "outputs": [],
   "source": [
    "df_stocks = pd.DataFrame(index = buying_days.index)"
   ]
  },
  {
   "cell_type": "code",
   "execution_count": 91,
   "id": "095cf1fc",
   "metadata": {},
   "outputs": [],
   "source": [
    "df_stocks['buying_day'] = (buying_days == 1)\n",
    "df_stocks['potential_selling_day'] = (potential_selling_days == 1)\n",
    "df_stocks['price'] = test_data"
   ]
  },
  {
   "cell_type": "code",
   "execution_count": 95,
   "id": "c76759e1",
   "metadata": {},
   "outputs": [],
   "source": [
    "df_stocks = df_stocks[(df_stocks.buying_day | df_stocks.potential_selling_day)]"
   ]
  },
  {
   "cell_type": "code",
   "execution_count": 96,
   "id": "1248e692",
   "metadata": {},
   "outputs": [
    {
     "data": {
      "text/html": [
       "<div>\n",
       "<style scoped>\n",
       "    .dataframe tbody tr th:only-of-type {\n",
       "        vertical-align: middle;\n",
       "    }\n",
       "\n",
       "    .dataframe tbody tr th {\n",
       "        vertical-align: top;\n",
       "    }\n",
       "\n",
       "    .dataframe thead th {\n",
       "        text-align: right;\n",
       "    }\n",
       "</style>\n",
       "<table border=\"1\" class=\"dataframe\">\n",
       "  <thead>\n",
       "    <tr style=\"text-align: right;\">\n",
       "      <th></th>\n",
       "      <th>buying_day</th>\n",
       "      <th>potential_selling_day</th>\n",
       "      <th>price</th>\n",
       "    </tr>\n",
       "    <tr>\n",
       "      <th>date</th>\n",
       "      <th></th>\n",
       "      <th></th>\n",
       "      <th></th>\n",
       "    </tr>\n",
       "  </thead>\n",
       "  <tbody>\n",
       "    <tr>\n",
       "      <th>2019-07-23</th>\n",
       "      <td>False</td>\n",
       "      <td>True</td>\n",
       "      <td>1.11516</td>\n",
       "    </tr>\n",
       "    <tr>\n",
       "      <th>2019-07-24</th>\n",
       "      <td>False</td>\n",
       "      <td>True</td>\n",
       "      <td>1.11400</td>\n",
       "    </tr>\n",
       "    <tr>\n",
       "      <th>2019-08-15</th>\n",
       "      <td>False</td>\n",
       "      <td>True</td>\n",
       "      <td>1.11066</td>\n",
       "    </tr>\n",
       "    <tr>\n",
       "      <th>2019-08-28</th>\n",
       "      <td>False</td>\n",
       "      <td>True</td>\n",
       "      <td>1.10772</td>\n",
       "    </tr>\n",
       "    <tr>\n",
       "      <th>2019-08-29</th>\n",
       "      <td>False</td>\n",
       "      <td>True</td>\n",
       "      <td>1.10566</td>\n",
       "    </tr>\n",
       "    <tr>\n",
       "      <th>...</th>\n",
       "      <td>...</td>\n",
       "      <td>...</td>\n",
       "      <td>...</td>\n",
       "    </tr>\n",
       "    <tr>\n",
       "      <th>2022-04-26</th>\n",
       "      <td>False</td>\n",
       "      <td>True</td>\n",
       "      <td>1.06375</td>\n",
       "    </tr>\n",
       "    <tr>\n",
       "      <th>2022-04-27</th>\n",
       "      <td>False</td>\n",
       "      <td>True</td>\n",
       "      <td>1.05552</td>\n",
       "    </tr>\n",
       "    <tr>\n",
       "      <th>2022-04-28</th>\n",
       "      <td>False</td>\n",
       "      <td>True</td>\n",
       "      <td>1.04985</td>\n",
       "    </tr>\n",
       "    <tr>\n",
       "      <th>2022-05-12</th>\n",
       "      <td>False</td>\n",
       "      <td>True</td>\n",
       "      <td>1.03780</td>\n",
       "    </tr>\n",
       "    <tr>\n",
       "      <th>2022-05-17</th>\n",
       "      <td>True</td>\n",
       "      <td>False</td>\n",
       "      <td>1.05459</td>\n",
       "    </tr>\n",
       "  </tbody>\n",
       "</table>\n",
       "<p>121 rows × 3 columns</p>\n",
       "</div>"
      ],
      "text/plain": [
       "            buying_day  potential_selling_day    price\n",
       "date                                                  \n",
       "2019-07-23       False                   True  1.11516\n",
       "2019-07-24       False                   True  1.11400\n",
       "2019-08-15       False                   True  1.11066\n",
       "2019-08-28       False                   True  1.10772\n",
       "2019-08-29       False                   True  1.10566\n",
       "...                ...                    ...      ...\n",
       "2022-04-26       False                   True  1.06375\n",
       "2022-04-27       False                   True  1.05552\n",
       "2022-04-28       False                   True  1.04985\n",
       "2022-05-12       False                   True  1.03780\n",
       "2022-05-17        True                  False  1.05459\n",
       "\n",
       "[121 rows x 3 columns]"
      ]
     },
     "execution_count": 96,
     "metadata": {},
     "output_type": "execute_result"
    }
   ],
   "source": [
    "df_stocks"
   ]
  },
  {
   "cell_type": "code",
   "execution_count": 97,
   "id": "7277e6ff",
   "metadata": {},
   "outputs": [],
   "source": [
    "def check_cumulative_percent_change(price_data, buy_date, potential_sell_date):\n",
    "    \"\"\"\n",
    "    This helper function will check if the cumulative percent change\n",
    "    between a buying and potential selling day yields overall growth\n",
    "    \"\"\"\n",
    "    \n",
    "    #get the percent change day after day\n",
    "    pct_change = price_data.pct_change()[1:]\n",
    "    sub_series = 1 + pct_change[buy_date + timedelta(hours=1):potential_sell_date]\n",
    "    return sub_series.product() > 1"
   ]
  },
  {
   "cell_type": "code",
   "execution_count": 99,
   "id": "5ff9561d",
   "metadata": {},
   "outputs": [],
   "source": [
    "price_data = df_stocks.price\n",
    "holding = False\n",
    "starting_funds = 10000\n",
    "current_funds = starting_funds\n",
    "current_shares = 0\n",
    "last_buy_date = None\n",
    "events_list = []\n",
    "\n",
    "for date, data in df_stocks.iterrows():\n",
    "    if not holding and data.buying_day:\n",
    "        num_shares_to_buy = int(current_funds / data.price)\n",
    "        current_shares += num_shares_to_buy\n",
    "        current_funds -= num_shares_to_buy * data.price\n",
    "        last_buy_date = date\n",
    "        events_list.append(('b', date))\n",
    "        holding = True\n",
    "    elif holding and data.potential_selling_day:\n",
    "        if check_cumulative_percent_change(price_data, last_buy_date, date):\n",
    "            current_funds += current_shares * data.price\n",
    "            current_shares = 0\n",
    "            holding = False\n",
    "            events_list.append(('s', date))\n",
    "final_stock_price = price_data[-1]\n",
    "final_value = current_funds + final_stock_price * current_shares"
   ]
  },
  {
   "cell_type": "code",
   "execution_count": 100,
   "id": "77ce2457",
   "metadata": {},
   "outputs": [
    {
     "data": {
      "text/plain": [
       "-0.02"
      ]
     },
     "execution_count": 100,
     "metadata": {},
     "output_type": "execute_result"
    }
   ],
   "source": [
    "round((final_value - starting_funds) / starting_funds,2)"
   ]
  },
  {
   "cell_type": "code",
   "execution_count": 103,
   "id": "e44f55bd",
   "metadata": {},
   "outputs": [
    {
     "data": {
      "text/html": [
       "<div>\n",
       "<style scoped>\n",
       "    .dataframe tbody tr th:only-of-type {\n",
       "        vertical-align: middle;\n",
       "    }\n",
       "\n",
       "    .dataframe tbody tr th {\n",
       "        vertical-align: top;\n",
       "    }\n",
       "\n",
       "    .dataframe thead th {\n",
       "        text-align: right;\n",
       "    }\n",
       "</style>\n",
       "<table border=\"1\" class=\"dataframe\">\n",
       "  <thead>\n",
       "    <tr style=\"text-align: right;\">\n",
       "      <th></th>\n",
       "      <th>open</th>\n",
       "    </tr>\n",
       "    <tr>\n",
       "      <th>date</th>\n",
       "      <th></th>\n",
       "    </tr>\n",
       "  </thead>\n",
       "  <tbody>\n",
       "    <tr>\n",
       "      <th>2019-07-06</th>\n",
       "      <td>NaN</td>\n",
       "    </tr>\n",
       "    <tr>\n",
       "      <th>2019-07-07</th>\n",
       "      <td>1.12261</td>\n",
       "    </tr>\n",
       "    <tr>\n",
       "      <th>2019-07-08</th>\n",
       "      <td>1.12140</td>\n",
       "    </tr>\n",
       "    <tr>\n",
       "      <th>2019-07-09</th>\n",
       "      <td>1.12077</td>\n",
       "    </tr>\n",
       "    <tr>\n",
       "      <th>2019-07-10</th>\n",
       "      <td>1.12507</td>\n",
       "    </tr>\n",
       "    <tr>\n",
       "      <th>...</th>\n",
       "      <td>...</td>\n",
       "    </tr>\n",
       "    <tr>\n",
       "      <th>2022-05-21</th>\n",
       "      <td>NaN</td>\n",
       "    </tr>\n",
       "    <tr>\n",
       "      <th>2022-05-22</th>\n",
       "      <td>1.05620</td>\n",
       "    </tr>\n",
       "    <tr>\n",
       "      <th>2022-05-23</th>\n",
       "      <td>1.06885</td>\n",
       "    </tr>\n",
       "    <tr>\n",
       "      <th>2022-05-24</th>\n",
       "      <td>1.07314</td>\n",
       "    </tr>\n",
       "    <tr>\n",
       "      <th>2022-05-25</th>\n",
       "      <td>1.06763</td>\n",
       "    </tr>\n",
       "  </tbody>\n",
       "</table>\n",
       "<p>1055 rows × 1 columns</p>\n",
       "</div>"
      ],
      "text/plain": [
       "               open\n",
       "date               \n",
       "2019-07-06      NaN\n",
       "2019-07-07  1.12261\n",
       "2019-07-08  1.12140\n",
       "2019-07-09  1.12077\n",
       "2019-07-10  1.12507\n",
       "...             ...\n",
       "2022-05-21      NaN\n",
       "2022-05-22  1.05620\n",
       "2022-05-23  1.06885\n",
       "2022-05-24  1.07314\n",
       "2022-05-25  1.06763\n",
       "\n",
       "[1055 rows x 1 columns]"
      ]
     },
     "execution_count": 103,
     "metadata": {},
     "output_type": "execute_result"
    }
   ],
   "source": [
    "test_data"
   ]
  },
  {
   "cell_type": "code",
   "execution_count": 102,
   "id": "89d13caf",
   "metadata": {},
   "outputs": [
    {
     "data": {
      "text/plain": [
       "(0.0, 1.0)"
      ]
     },
     "execution_count": 102,
     "metadata": {},
     "output_type": "execute_result"
    },
    {
     "data": {
      "image/png": "[encoded data removed]",
      "text/plain": [
       "<Figure size 720x288 with 1 Axes>"
      ]
     },
     "metadata": {
      "needs_background": "light"
     },
     "output_type": "display_data"
    }
   ],
   "source": [
    "plt.figure(figsize=(10,4))\n",
    "plt.plot(test_data)\n",
    "y_lims = (int(test_data.min()*.95), int(test_data.max()*1.05))\n",
    "shaded_y_lims = int(test_data.min()*.5), int(test_data.max()*1.5)\n",
    "for idx, event in enumerate(events_list):\n",
    "    color = 'red' if event[0] == 'b' else 'blue'\n",
    "    plt.axvline(event[1], color=color, linestyle='--', alpha=0.4)\n",
    "    if event[0] == 's':\n",
    "        plt.fill_betweenx(range(*shaded_y_lims), \n",
    "                          event[1], events_list[idx-1][1], color='k', alpha=0.1)\n",
    "\n",
    "plt.ylim(*y_lims)"
   ]
  },
  {
   "cell_type": "code",
   "execution_count": null,
   "id": "ee126891",
   "metadata": {},
   "outputs": [],
   "source": []
  }
 ],
 "metadata": {
  "kernelspec": {
   "display_name": "Python 3",
   "language": "python",
   "name": "python3"
  },
  "language_info": {
   "codemirror_mode": {
    "name": "ipython",
    "version": 3
   },
   "file_extension": ".py",
   "mimetype": "text/x-python",
   "name": "python",
   "nbconvert_exporter": "python",
   "pygments_lexer": "ipython3",
   "version": "3.8.8"
  }
 },
 "nbformat": 4,
 "nbformat_minor": 5
}
